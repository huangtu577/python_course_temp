{
 "cells": [
  {
   "cell_type": "code",
   "execution_count": 1,
   "metadata": {},
   "outputs": [],
   "source": [
    "import sympy as sp\n",
    "from sympy import Eq"
   ]
  },
  {
   "cell_type": "markdown",
   "metadata": {},
   "source": [
    "Sympy ist eine Libary in Python, die sich mit Symbolischen Berechnungen beschäftigt. Sie ist also dazu da, \n",
    "Rechnungen exakt zu lösen und ist nicht abhängig von numerischen Approximationen. Sympy zu nutzen bietet sich vorallem an, \n",
    "wenn man etwas mehr Kontrolle über die Rechnung haben möchte, als es bei WolframAlpha möglich wäre.\n"
   ]
  },
  {
   "cell_type": "code",
   "execution_count": 2,
   "metadata": {},
   "outputs": [],
   "source": [
    "# Berechne den Schnittpunkt von Zwei Funktionen:\n",
    "\n",
    "# Zuerst initialisieren wir eine Variable als 'Symbolischen Parameter'\n",
    "x, y = sp.symbols(\"x, y\")\n",
    "# Nun initialisieren wir zwei Funktionen als symbolische Funktionen vom Parameter x, y\n",
    "f = sp.Function(\"f\")(x, y)\n",
    "g = sp.Function(\"g\")(x, y)\n",
    "\n",
    "# Nun weisen wir den beiden Funktionen Abbildungsvorschriften zu\n",
    "f = x**2 + 2*x - 3\n",
    "g = 15*y + 3*x*y- 2 \n"
   ]
  },
  {
   "cell_type": "code",
   "execution_count": 3,
   "metadata": {},
   "outputs": [
    {
     "data": {
      "text/latex": [
       "$\\displaystyle x^{2} + 2 x - 3 = 3 x y + 15 y - 2$"
      ],
      "text/plain": [
       "Eq(x**2 + 2*x - 3, 3*x*y + 15*y - 2)"
      ]
     },
     "execution_count": 3,
     "metadata": {},
     "output_type": "execute_result"
    }
   ],
   "source": [
    "# Die Gleichung die wir lösen wollen:\n",
    "eq = sp.Eq(f, g)\n",
    "eq"
   ]
  },
  {
   "cell_type": "code",
   "execution_count": 14,
   "metadata": {},
   "outputs": [
    {
     "name": "stdout",
     "output_type": "stream",
     "text": [
      "y(x) =\n"
     ]
    },
    {
     "data": {
      "text/latex": [
       "$\\displaystyle \\frac{x^{2} + 2 x - 1}{3 \\left(x + 5\\right)}$"
      ],
      "text/plain": [
       "(x**2 + 2*x - 1)/(3*(x + 5))"
      ]
     },
     "execution_count": 14,
     "metadata": {},
     "output_type": "execute_result"
    }
   ],
   "source": [
    "# Wir haben die Parametriesierung der Lösungskurve gefunden:\n",
    "solution = sp.solve(eq)#[0][y]\n",
    "# Es gibt nur eine Lösungskurve und wir haben sie gegeben als y(x):\n",
    "print(\"y(x) =\", end=\"\\n\")\n",
    "solution[0][y]"
   ]
  },
  {
   "cell_type": "markdown",
   "metadata": {},
   "source": [
    "Sympy ist außerdem sehr praktisch zum Lösen von DGL:"
   ]
  },
  {
   "cell_type": "code",
   "execution_count": 81,
   "metadata": {},
   "outputs": [
    {
     "data": {
      "text/latex": [
       "$\\displaystyle \\omega_{0}^{2} f{\\left(x \\right)} + \\frac{d^{2}}{d x^{2}} f{\\left(x \\right)} = 0$"
      ],
      "text/plain": [
       "Eq(omega_0**2*f(x) + Derivative(f(x), (x, 2)), 0)"
      ]
     },
     "execution_count": 81,
     "metadata": {},
     "output_type": "execute_result"
    }
   ],
   "source": [
    "# Wir definieren die Funktionsgleichung des Harmonischen Oszilators\n",
    "f = sp.Function(\"f\")(x)\n",
    "x, omega_0 = sp.symbols(\"x omega_0\")\n",
    "eq = Eq(sp.diff(f, x, 2) + omega_0**2*f, 0)\n",
    "eq"
   ]
  },
  {
   "cell_type": "code",
   "execution_count": 84,
   "metadata": {},
   "outputs": [
    {
     "data": {
      "text/latex": [
       "$\\displaystyle f{\\left(x \\right)} = C_{1} e^{- i \\omega_{0} x} + C_{2} e^{i \\omega_{0} x}$"
      ],
      "text/plain": [
       "Eq(f(x), C1*exp(-I*omega_0*x) + C2*exp(I*omega_0*x))"
      ]
     },
     "execution_count": 84,
     "metadata": {},
     "output_type": "execute_result"
    }
   ],
   "source": [
    "sp.dsolve(eq, f)"
   ]
  },
  {
   "cell_type": "markdown",
   "metadata": {},
   "source": [
    "Für Integrale kann man Sympy auch verwenden:"
   ]
  },
  {
   "cell_type": "code",
   "execution_count": 105,
   "metadata": {},
   "outputs": [
    {
     "data": {
      "text/latex": [
       "$\\displaystyle \\int\\limits_{0.5}^{1} \\left(\\tanh{\\left(x \\right)} + \\csc{\\left(x \\right)}\\right)\\, dx$"
      ],
      "text/plain": [
       "Integral(tanh(x) + csc(x), (x, 0.5, 1))"
      ]
     },
     "execution_count": 105,
     "metadata": {},
     "output_type": "execute_result"
    }
   ],
   "source": [
    "# Definiere die Funktionen:\n",
    "f = sp.Function(\"f\")(x)\n",
    "f = sp.tanh(x) + sp.csc(x)\n",
    "\n",
    "# Definiere das zu lösende Integral\n",
    "F = sp.Integral(f, (x, 0.5, 1))\n",
    "F"
   ]
  },
  {
   "cell_type": "code",
   "execution_count": 111,
   "metadata": {},
   "outputs": [
    {
     "data": {
      "text/latex": [
       "$\\displaystyle - \\log{\\left(\\tanh{\\left(1 \\right)} + 1 \\right)} + \\frac{\\log{\\left(1 - \\cos{\\left(1 \\right)} \\right)}}{2} - \\frac{\\log{\\left(\\cos{\\left(1 \\right)} + 1 \\right)}}{2} + 2.24503725749204$"
      ],
      "text/plain": [
       "-log(tanh(1) + 1) + log(1 - cos(1))/2 - log(cos(1) + 1)/2 + 2.24503725749204"
      ]
     },
     "execution_count": 111,
     "metadata": {},
     "output_type": "execute_result"
    }
   ],
   "source": [
    "# Nun führen wir die Integration aus:\n",
    "res = F.doit()\n",
    "res"
   ]
  },
  {
   "cell_type": "code",
   "execution_count": 112,
   "metadata": {},
   "outputs": [
    {
     "data": {
      "text/latex": [
       "$\\displaystyle 1.07423564203348$"
      ],
      "text/plain": [
       "1.07423564203348"
      ]
     },
     "execution_count": 112,
     "metadata": {},
     "output_type": "execute_result"
    }
   ],
   "source": [
    "# Wenn wir den Zahlenwert wollen, müssen wir das Ergebnis noch evaluieren:\n",
    "res.evalf()"
   ]
  }
 ],
 "metadata": {
  "kernelspec": {
   "display_name": "Python 3.9.9 ('studium')",
   "language": "python",
   "name": "python3"
  },
  "language_info": {
   "codemirror_mode": {
    "name": "ipython",
    "version": 3
   },
   "file_extension": ".py",
   "mimetype": "text/x-python",
   "name": "python",
   "nbconvert_exporter": "python",
   "pygments_lexer": "ipython3",
   "version": "3.9.9"
  },
  "orig_nbformat": 4,
  "vscode": {
   "interpreter": {
    "hash": "36c261df53cd0e0c13eb9da6540abc6433f979a04db9bc8e21da87cc4eb626f0"
   }
  }
 },
 "nbformat": 4,
 "nbformat_minor": 2
}
